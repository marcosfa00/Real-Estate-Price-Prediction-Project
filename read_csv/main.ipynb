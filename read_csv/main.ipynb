{
 "cells": [
  {
   "cell_type": "code",
   "execution_count": 152,
   "id": "initial_id",
   "metadata": {
    "collapsed": true,
    "ExecuteTime": {
     "end_time": "2024-06-19T14:27:23.728450Z",
     "start_time": "2024-06-19T14:27:23.725487Z"
    }
   },
   "outputs": [],
   "source": [
    "# Imports needed\n",
    "import pandas as pd\n",
    "import numpy as np\n",
    "import matplotlib\n",
    "from matplotlib import pyplot as plt\n",
    "matplotlib.rcParams[\"figure.figsize\"] = (20,10)"
   ]
  },
  {
   "cell_type": "code",
   "outputs": [
    {
     "data": {
      "text/plain": "              area_type   availability                  location       size  \\\n0  Super built-up  Area         19-Dec  Electronic City Phase II      2 BHK   \n1            Plot  Area  Ready To Move          Chikka Tirupathi  4 Bedroom   \n2        Built-up  Area  Ready To Move               Uttarahalli      3 BHK   \n3  Super built-up  Area  Ready To Move        Lingadheeranahalli      3 BHK   \n4  Super built-up  Area  Ready To Move                  Kothanur      2 BHK   \n\n   society total_sqft  bath  balcony   price  \n0  Coomee        1056   2.0      1.0   39.07  \n1  Theanmp       2600   5.0      3.0  120.00  \n2      NaN       1440   2.0      3.0   62.00  \n3  Soiewre       1521   3.0      1.0   95.00  \n4      NaN       1200   2.0      1.0   51.00  ",
      "text/html": "<div>\n<style scoped>\n    .dataframe tbody tr th:only-of-type {\n        vertical-align: middle;\n    }\n\n    .dataframe tbody tr th {\n        vertical-align: top;\n    }\n\n    .dataframe thead th {\n        text-align: right;\n    }\n</style>\n<table border=\"1\" class=\"dataframe\">\n  <thead>\n    <tr style=\"text-align: right;\">\n      <th></th>\n      <th>area_type</th>\n      <th>availability</th>\n      <th>location</th>\n      <th>size</th>\n      <th>society</th>\n      <th>total_sqft</th>\n      <th>bath</th>\n      <th>balcony</th>\n      <th>price</th>\n    </tr>\n  </thead>\n  <tbody>\n    <tr>\n      <th>0</th>\n      <td>Super built-up  Area</td>\n      <td>19-Dec</td>\n      <td>Electronic City Phase II</td>\n      <td>2 BHK</td>\n      <td>Coomee</td>\n      <td>1056</td>\n      <td>2.0</td>\n      <td>1.0</td>\n      <td>39.07</td>\n    </tr>\n    <tr>\n      <th>1</th>\n      <td>Plot  Area</td>\n      <td>Ready To Move</td>\n      <td>Chikka Tirupathi</td>\n      <td>4 Bedroom</td>\n      <td>Theanmp</td>\n      <td>2600</td>\n      <td>5.0</td>\n      <td>3.0</td>\n      <td>120.00</td>\n    </tr>\n    <tr>\n      <th>2</th>\n      <td>Built-up  Area</td>\n      <td>Ready To Move</td>\n      <td>Uttarahalli</td>\n      <td>3 BHK</td>\n      <td>NaN</td>\n      <td>1440</td>\n      <td>2.0</td>\n      <td>3.0</td>\n      <td>62.00</td>\n    </tr>\n    <tr>\n      <th>3</th>\n      <td>Super built-up  Area</td>\n      <td>Ready To Move</td>\n      <td>Lingadheeranahalli</td>\n      <td>3 BHK</td>\n      <td>Soiewre</td>\n      <td>1521</td>\n      <td>3.0</td>\n      <td>1.0</td>\n      <td>95.00</td>\n    </tr>\n    <tr>\n      <th>4</th>\n      <td>Super built-up  Area</td>\n      <td>Ready To Move</td>\n      <td>Kothanur</td>\n      <td>2 BHK</td>\n      <td>NaN</td>\n      <td>1200</td>\n      <td>2.0</td>\n      <td>1.0</td>\n      <td>51.00</td>\n    </tr>\n  </tbody>\n</table>\n</div>"
     },
     "execution_count": 153,
     "metadata": {},
     "output_type": "execute_result"
    }
   ],
   "source": [
    "# Create the dataframe & Read the CSV File\n",
    "df = pd.read_csv('Bengaluru_House_Data.csv')\n",
    "# Show the Result of the dataframe\n",
    "df.head()"
   ],
   "metadata": {
    "collapsed": false,
    "ExecuteTime": {
     "end_time": "2024-06-19T14:27:23.751371Z",
     "start_time": "2024-06-19T14:27:23.735240Z"
    }
   },
   "id": "762c3da7311e4719",
   "execution_count": 153
  },
  {
   "cell_type": "code",
   "outputs": [
    {
     "data": {
      "text/plain": "(13320, 9)"
     },
     "execution_count": 154,
     "metadata": {},
     "output_type": "execute_result"
    }
   ],
   "source": [
    "# Show the Nof Rows and Columns of our Dataframe\n",
    "# (ROWs,COLUMNs)\n",
    "df.shape"
   ],
   "metadata": {
    "collapsed": false,
    "ExecuteTime": {
     "end_time": "2024-06-19T14:27:23.754772Z",
     "start_time": "2024-06-19T14:27:23.752528Z"
    }
   },
   "id": "2809e2b9d701ec0a",
   "execution_count": 154
  },
  {
   "cell_type": "code",
   "outputs": [
    {
     "data": {
      "text/plain": "area_type\nBuilt-up  Area          2418\nCarpet  Area              87\nPlot  Area              2025\nSuper built-up  Area    8790\nName: area_type, dtype: int64"
     },
     "execution_count": 155,
     "metadata": {},
     "output_type": "execute_result"
    }
   ],
   "source": [
    "# We group by area_type as it is the column we will use as a reference\n",
    "# [] in brackets indicates that we will only work with area_type, specifying the column\n",
    "# count counts how many times each type of area appears in the DataFrame\n",
    "df.groupby('area_type')['area_type'].count()"
   ],
   "metadata": {
    "collapsed": false,
    "ExecuteTime": {
     "end_time": "2024-06-19T14:27:23.759175Z",
     "start_time": "2024-06-19T14:27:23.755374Z"
    }
   },
   "id": "5ce3eb058ae1bcd1",
   "execution_count": 155
  },
  {
   "cell_type": "code",
   "outputs": [
    {
     "data": {
      "text/plain": "                   location       size total_sqft  bath   price\n0  Electronic City Phase II      2 BHK       1056   2.0   39.07\n1          Chikka Tirupathi  4 Bedroom       2600   5.0  120.00\n2               Uttarahalli      3 BHK       1440   2.0   62.00\n3        Lingadheeranahalli      3 BHK       1521   3.0   95.00\n4                  Kothanur      2 BHK       1200   2.0   51.00",
      "text/html": "<div>\n<style scoped>\n    .dataframe tbody tr th:only-of-type {\n        vertical-align: middle;\n    }\n\n    .dataframe tbody tr th {\n        vertical-align: top;\n    }\n\n    .dataframe thead th {\n        text-align: right;\n    }\n</style>\n<table border=\"1\" class=\"dataframe\">\n  <thead>\n    <tr style=\"text-align: right;\">\n      <th></th>\n      <th>location</th>\n      <th>size</th>\n      <th>total_sqft</th>\n      <th>bath</th>\n      <th>price</th>\n    </tr>\n  </thead>\n  <tbody>\n    <tr>\n      <th>0</th>\n      <td>Electronic City Phase II</td>\n      <td>2 BHK</td>\n      <td>1056</td>\n      <td>2.0</td>\n      <td>39.07</td>\n    </tr>\n    <tr>\n      <th>1</th>\n      <td>Chikka Tirupathi</td>\n      <td>4 Bedroom</td>\n      <td>2600</td>\n      <td>5.0</td>\n      <td>120.00</td>\n    </tr>\n    <tr>\n      <th>2</th>\n      <td>Uttarahalli</td>\n      <td>3 BHK</td>\n      <td>1440</td>\n      <td>2.0</td>\n      <td>62.00</td>\n    </tr>\n    <tr>\n      <th>3</th>\n      <td>Lingadheeranahalli</td>\n      <td>3 BHK</td>\n      <td>1521</td>\n      <td>3.0</td>\n      <td>95.00</td>\n    </tr>\n    <tr>\n      <th>4</th>\n      <td>Kothanur</td>\n      <td>2 BHK</td>\n      <td>1200</td>\n      <td>2.0</td>\n      <td>51.00</td>\n    </tr>\n  </tbody>\n</table>\n</div>"
     },
     "execution_count": 156,
     "metadata": {},
     "output_type": "execute_result"
    }
   ],
   "source": [
    "# Now Delete the columns we don't need\n",
    "# So we create a new dataframe\n",
    "# Final Result = Location, Size, total_sqft, bath,price\n",
    "df2 = df.drop(['area_type','society','balcony','availability'], axis='columns')\n",
    "df2.head()"
   ],
   "metadata": {
    "collapsed": false,
    "ExecuteTime": {
     "end_time": "2024-06-19T14:27:23.765226Z",
     "start_time": "2024-06-19T14:27:23.760683Z"
    }
   },
   "id": "83b789f9e70ee842",
   "execution_count": 156
  },
  {
   "cell_type": "code",
   "outputs": [
    {
     "data": {
      "text/plain": "location       1\nsize          16\ntotal_sqft     0\nbath          73\nprice          0\ndtype: int64"
     },
     "execution_count": 157,
     "metadata": {},
     "output_type": "execute_result"
    }
   ],
   "source": [
    "# NOW WE START THE DATA CLEANING PROCESS\n",
    "# First of all we must know the Null values\n",
    "df2.isnull().sum()\n",
    "# This result means thet there's one location null, 16 with the size null too and so on\n",
    "# So the next step is to drop all those values"
   ],
   "metadata": {
    "collapsed": false,
    "ExecuteTime": {
     "end_time": "2024-06-19T14:27:23.769678Z",
     "start_time": "2024-06-19T14:27:23.765972Z"
    }
   },
   "id": "f8729f5fa15da594",
   "execution_count": 157
  },
  {
   "cell_type": "code",
   "outputs": [
    {
     "data": {
      "text/plain": "location      0\nsize          0\ntotal_sqft    0\nbath          0\nprice         0\ndtype: int64"
     },
     "execution_count": 158,
     "metadata": {},
     "output_type": "execute_result"
    }
   ],
   "source": [
    "# So here we create a cleande dataframe without all the null values\n",
    "df_cleaned = df2.dropna()\n",
    "df_cleaned.isnull().sum()"
   ],
   "metadata": {
    "collapsed": false,
    "ExecuteTime": {
     "end_time": "2024-06-19T14:27:23.775834Z",
     "start_time": "2024-06-19T14:27:23.770426Z"
    }
   },
   "id": "f9cf3df77d55cf70",
   "execution_count": 158
  },
  {
   "cell_type": "code",
   "outputs": [
    {
     "data": {
      "text/plain": "(13246, 5)"
     },
     "execution_count": 159,
     "metadata": {},
     "output_type": "execute_result"
    }
   ],
   "source": [
    "df_cleaned.shape"
   ],
   "metadata": {
    "collapsed": false,
    "ExecuteTime": {
     "end_time": "2024-06-19T14:27:23.778473Z",
     "start_time": "2024-06-19T14:27:23.776352Z"
    }
   },
   "id": "51299238fe2ffd8b",
   "execution_count": 159
  },
  {
   "cell_type": "code",
   "outputs": [
    {
     "data": {
      "text/plain": "array(['2 BHK', '4 Bedroom', '3 BHK', '4 BHK', '6 Bedroom', '3 Bedroom',\n       '1 BHK', '1 RK', '1 Bedroom', '8 Bedroom', '2 Bedroom',\n       '7 Bedroom', '5 BHK', '7 BHK', '6 BHK', '5 Bedroom', '11 BHK',\n       '9 BHK', '9 Bedroom', '27 BHK', '10 Bedroom', '11 Bedroom',\n       '10 BHK', '19 BHK', '16 BHK', '43 Bedroom', '14 BHK', '8 BHK',\n       '12 Bedroom', '13 BHK', '18 Bedroom'], dtype=object)"
     },
     "execution_count": 160,
     "metadata": {},
     "output_type": "execute_result"
    }
   ],
   "source": [
    "# SIZE: Result\n",
    "# 4 Bedroom\n",
    "# 3 BHK\n",
    "# 3 BHK\n",
    "# 2 BHK\n",
    "# 2 BHK\n",
    "# As we can se there are different types of Size, and we wanted to know what's going on hereç\n",
    "# To do that we list all the unique values\n",
    "df_cleaned['size'].unique()"
   ],
   "metadata": {
    "collapsed": false,
    "ExecuteTime": {
     "end_time": "2024-06-19T14:27:23.781913Z",
     "start_time": "2024-06-19T14:27:23.779252Z"
    }
   },
   "id": "54f2c01abd913767",
   "execution_count": 160
  },
  {
   "cell_type": "code",
   "outputs": [
    {
     "name": "stderr",
     "output_type": "stream",
     "text": [
      "/var/folders/2h/k4hf9p252fj60670t_4bmh1m0000gn/T/ipykernel_3777/2053392484.py:6: SettingWithCopyWarning: \n",
      "A value is trying to be set on a copy of a slice from a DataFrame.\n",
      "Try using .loc[row_indexer,col_indexer] = value instead\n",
      "\n",
      "See the caveats in the documentation: https://pandas.pydata.org/pandas-docs/stable/user_guide/indexing.html#returning-a-view-versus-a-copy\n",
      "  df_cleaned['BHK'] = df_cleaned['size'].apply(lambda x: int(x.split(' ')[0]))\n"
     ]
    },
    {
     "data": {
      "text/plain": "                   location       size total_sqft  bath   price  BHK\n0  Electronic City Phase II      2 BHK       1056   2.0   39.07    2\n1          Chikka Tirupathi  4 Bedroom       2600   5.0  120.00    4\n2               Uttarahalli      3 BHK       1440   2.0   62.00    3\n3        Lingadheeranahalli      3 BHK       1521   3.0   95.00    3\n4                  Kothanur      2 BHK       1200   2.0   51.00    2",
      "text/html": "<div>\n<style scoped>\n    .dataframe tbody tr th:only-of-type {\n        vertical-align: middle;\n    }\n\n    .dataframe tbody tr th {\n        vertical-align: top;\n    }\n\n    .dataframe thead th {\n        text-align: right;\n    }\n</style>\n<table border=\"1\" class=\"dataframe\">\n  <thead>\n    <tr style=\"text-align: right;\">\n      <th></th>\n      <th>location</th>\n      <th>size</th>\n      <th>total_sqft</th>\n      <th>bath</th>\n      <th>price</th>\n      <th>BHK</th>\n    </tr>\n  </thead>\n  <tbody>\n    <tr>\n      <th>0</th>\n      <td>Electronic City Phase II</td>\n      <td>2 BHK</td>\n      <td>1056</td>\n      <td>2.0</td>\n      <td>39.07</td>\n      <td>2</td>\n    </tr>\n    <tr>\n      <th>1</th>\n      <td>Chikka Tirupathi</td>\n      <td>4 Bedroom</td>\n      <td>2600</td>\n      <td>5.0</td>\n      <td>120.00</td>\n      <td>4</td>\n    </tr>\n    <tr>\n      <th>2</th>\n      <td>Uttarahalli</td>\n      <td>3 BHK</td>\n      <td>1440</td>\n      <td>2.0</td>\n      <td>62.00</td>\n      <td>3</td>\n    </tr>\n    <tr>\n      <th>3</th>\n      <td>Lingadheeranahalli</td>\n      <td>3 BHK</td>\n      <td>1521</td>\n      <td>3.0</td>\n      <td>95.00</td>\n      <td>3</td>\n    </tr>\n    <tr>\n      <th>4</th>\n      <td>Kothanur</td>\n      <td>2 BHK</td>\n      <td>1200</td>\n      <td>2.0</td>\n      <td>51.00</td>\n      <td>2</td>\n    </tr>\n  </tbody>\n</table>\n</div>"
     },
     "execution_count": 161,
     "metadata": {},
     "output_type": "execute_result"
    }
   ],
   "source": [
    "# I can gess that 4 Bedroom and 4 BHK are essentially the same, so we are going to create a new colum\n",
    "# called BHk\n",
    "# here we are going to call a Fuynction in wich we are going to split by the space \n",
    "# x is going to be the numbrer the token on the position 0, teh position 1 is for the string\n",
    "# So finally we have a cleaned dataframe with the column BHK wich contains only the number of bedrooms in a house\n",
    "df_cleaned['BHK'] = df_cleaned['size'].apply(lambda x: int(x.split(' ')[0]))\n",
    "df_cleaned.head()"
   ],
   "metadata": {
    "collapsed": false,
    "ExecuteTime": {
     "end_time": "2024-06-19T14:27:23.791939Z",
     "start_time": "2024-06-19T14:27:23.783344Z"
    }
   },
   "id": "4410aab0444ce30f",
   "execution_count": 161
  },
  {
   "cell_type": "code",
   "outputs": [
    {
     "data": {
      "text/plain": "array([ 2,  4,  3,  6,  1,  8,  7,  5, 11,  9, 27, 10, 19, 16, 43, 14, 12,\n       13, 18])"
     },
     "execution_count": 162,
     "metadata": {},
     "output_type": "execute_result"
    }
   ],
   "source": [
    "# to take more control on the BHK column we can show some UNIQUE values\n",
    "df_cleaned['BHK'].unique()"
   ],
   "metadata": {
    "collapsed": false,
    "ExecuteTime": {
     "end_time": "2024-06-19T14:27:23.794792Z",
     "start_time": "2024-06-19T14:27:23.792620Z"
    }
   },
   "id": "669ae81a2fac8339",
   "execution_count": 162
  },
  {
   "cell_type": "code",
   "outputs": [
    {
     "data": {
      "text/plain": "                            location        size total_sqft  bath  price  BHK\n459                     1 Giri Nagar      11 BHK       5000   9.0  360.0   11\n1718       2Electronic City Phase II      27 BHK       8000  27.0  230.0   27\n1768              1 Ramamurthy Nagar  11 Bedroom       1200  11.0  170.0   11\n3379                  1Hanuman Nagar      19 BHK       2000  16.0  490.0   19\n3609   Koramangala Industrial Layout      16 BHK      10000  16.0  550.0   16\n3853               1 Annasandrapalya  11 Bedroom       1200   6.0  150.0   11\n4684                     Munnekollal  43 Bedroom       2400  40.0  660.0   43\n4916                   1Channasandra      14 BHK       1250  15.0  125.0   14\n6533                     Mysore Road  12 Bedroom       2232   6.0  300.0   12\n7979                   1 Immadihalli      11 BHK       6000  12.0  150.0   11\n9935                   1Hoysalanagar      13 BHK       5425  13.0  275.0   13\n11559                  1Kasavanhalli  18 Bedroom       1200  18.0  200.0   18",
      "text/html": "<div>\n<style scoped>\n    .dataframe tbody tr th:only-of-type {\n        vertical-align: middle;\n    }\n\n    .dataframe tbody tr th {\n        vertical-align: top;\n    }\n\n    .dataframe thead th {\n        text-align: right;\n    }\n</style>\n<table border=\"1\" class=\"dataframe\">\n  <thead>\n    <tr style=\"text-align: right;\">\n      <th></th>\n      <th>location</th>\n      <th>size</th>\n      <th>total_sqft</th>\n      <th>bath</th>\n      <th>price</th>\n      <th>BHK</th>\n    </tr>\n  </thead>\n  <tbody>\n    <tr>\n      <th>459</th>\n      <td>1 Giri Nagar</td>\n      <td>11 BHK</td>\n      <td>5000</td>\n      <td>9.0</td>\n      <td>360.0</td>\n      <td>11</td>\n    </tr>\n    <tr>\n      <th>1718</th>\n      <td>2Electronic City Phase II</td>\n      <td>27 BHK</td>\n      <td>8000</td>\n      <td>27.0</td>\n      <td>230.0</td>\n      <td>27</td>\n    </tr>\n    <tr>\n      <th>1768</th>\n      <td>1 Ramamurthy Nagar</td>\n      <td>11 Bedroom</td>\n      <td>1200</td>\n      <td>11.0</td>\n      <td>170.0</td>\n      <td>11</td>\n    </tr>\n    <tr>\n      <th>3379</th>\n      <td>1Hanuman Nagar</td>\n      <td>19 BHK</td>\n      <td>2000</td>\n      <td>16.0</td>\n      <td>490.0</td>\n      <td>19</td>\n    </tr>\n    <tr>\n      <th>3609</th>\n      <td>Koramangala Industrial Layout</td>\n      <td>16 BHK</td>\n      <td>10000</td>\n      <td>16.0</td>\n      <td>550.0</td>\n      <td>16</td>\n    </tr>\n    <tr>\n      <th>3853</th>\n      <td>1 Annasandrapalya</td>\n      <td>11 Bedroom</td>\n      <td>1200</td>\n      <td>6.0</td>\n      <td>150.0</td>\n      <td>11</td>\n    </tr>\n    <tr>\n      <th>4684</th>\n      <td>Munnekollal</td>\n      <td>43 Bedroom</td>\n      <td>2400</td>\n      <td>40.0</td>\n      <td>660.0</td>\n      <td>43</td>\n    </tr>\n    <tr>\n      <th>4916</th>\n      <td>1Channasandra</td>\n      <td>14 BHK</td>\n      <td>1250</td>\n      <td>15.0</td>\n      <td>125.0</td>\n      <td>14</td>\n    </tr>\n    <tr>\n      <th>6533</th>\n      <td>Mysore Road</td>\n      <td>12 Bedroom</td>\n      <td>2232</td>\n      <td>6.0</td>\n      <td>300.0</td>\n      <td>12</td>\n    </tr>\n    <tr>\n      <th>7979</th>\n      <td>1 Immadihalli</td>\n      <td>11 BHK</td>\n      <td>6000</td>\n      <td>12.0</td>\n      <td>150.0</td>\n      <td>11</td>\n    </tr>\n    <tr>\n      <th>9935</th>\n      <td>1Hoysalanagar</td>\n      <td>13 BHK</td>\n      <td>5425</td>\n      <td>13.0</td>\n      <td>275.0</td>\n      <td>13</td>\n    </tr>\n    <tr>\n      <th>11559</th>\n      <td>1Kasavanhalli</td>\n      <td>18 Bedroom</td>\n      <td>1200</td>\n      <td>18.0</td>\n      <td>200.0</td>\n      <td>18</td>\n    </tr>\n  </tbody>\n</table>\n</div>"
     },
     "execution_count": 163,
     "metadata": {},
     "output_type": "execute_result"
    }
   ],
   "source": [
    "# Here sometimes we can se somethin strange, what type o fhouse has 11 bedrooms,\n",
    "# We are going to check it so we make sure all is in rule\n",
    "df_cleaned[df_cleaned.BHK > 10]"
   ],
   "metadata": {
    "collapsed": false,
    "ExecuteTime": {
     "end_time": "2024-06-19T14:27:23.800195Z",
     "start_time": "2024-06-19T14:27:23.795351Z"
    }
   },
   "id": "6c846602161dd4ba",
   "execution_count": 163
  },
  {
   "cell_type": "code",
   "outputs": [
    {
     "data": {
      "text/plain": "array(['1056', '2600', '1440', ..., '1133 - 1384', '774', '4689'],\n      dtype=object)"
     },
     "execution_count": 164,
     "metadata": {},
     "output_type": "execute_result"
    }
   ],
   "source": [
    "# Here we see there i something strange\n",
    "# a house with 16 Bedrooms has 10.000 OK, but you cant have 43 bedrooms with 2400\n",
    "# we have to clean this dataset, so we can trust the data\n",
    "# we are going to explore [total_sqft]\n",
    "\n",
    "df_cleaned['total_sqft'].unique()\n",
    "# some of teh values are a RANGE not a unique value, so to solve that we are going to\n",
    "# make an average and put a final number \n",
    "# We are going to see HOW MANY of those values are in range\n",
    "\n",
    "def is_foat(x):\n",
    "    try:\n",
    "        float(x)\n",
    "    except:\n",
    "        return False\n",
    "    return True"
   ],
   "metadata": {
    "collapsed": false,
    "ExecuteTime": {
     "end_time": "2024-06-19T14:27:23.804233Z",
     "start_time": "2024-06-19T14:27:23.801414Z"
    }
   },
   "id": "1513818a00e72a6a",
   "execution_count": 164
  }
 ],
 "metadata": {
  "kernelspec": {
   "display_name": "Python 3",
   "language": "python",
   "name": "python3"
  },
  "language_info": {
   "codemirror_mode": {
    "name": "ipython",
    "version": 2
   },
   "file_extension": ".py",
   "mimetype": "text/x-python",
   "name": "python",
   "nbconvert_exporter": "python",
   "pygments_lexer": "ipython2",
   "version": "2.7.6"
  }
 },
 "nbformat": 4,
 "nbformat_minor": 5
}
